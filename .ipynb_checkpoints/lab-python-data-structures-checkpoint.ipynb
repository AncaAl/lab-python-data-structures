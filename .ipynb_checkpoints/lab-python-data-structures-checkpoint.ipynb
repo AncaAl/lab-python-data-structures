{
 "cells": [
  {
   "cell_type": "markdown",
   "metadata": {
    "tags": []
   },
   "source": [
    "# Lab | Data Structures "
   ]
  },
  {
   "cell_type": "markdown",
   "metadata": {},
   "source": [
    "## Exercise: Managing Customer Orders\n",
    "\n",
    "As part of a business venture, you are starting an online store that sells various products. To ensure smooth operations, you need to develop a program that manages customer orders and inventory.\n",
    "\n",
    "Follow the steps below to complete the exercise:\n",
    "\n",
    "1. Define a list called `products` that contains the following items: \"t-shirt\", \"mug\", \"hat\", \"book\", \"keychain\".\n",
    "\n",
    "2. Create an empty dictionary called `inventory`.\n",
    "\n",
    "3. Ask the user to input the quantity of each product available in the inventory. Use the product names from the `products` list as keys in the `inventory` dictionary and assign the respective quantities as values.\n",
    "\n",
    "4. Create an empty set called `customer_orders`.\n",
    "\n",
    "5. Ask the user to input the name of three products that a customer wants to order (from those in the products list, meaning three products out of \"t-shirt\", \"mug\", \"hat\", \"book\" or \"keychain\". Add each product name to the `customer_orders` set.\n",
    "\n",
    "6. Print the products in the `customer_orders` set.\n",
    "\n",
    "7. Calculate the following order statistics:\n",
    "   - Total Products Ordered: The total number of products in the `customer_orders` set.\n",
    "   - Percentage of Products Ordered: The percentage of products ordered compared to the total available products.\n",
    "   \n",
    "   Store these statistics in a tuple called `order_status`.\n",
    "\n",
    "8. Print the order statistics using the following format:\n",
    "   ```\n",
    "   Order Statistics:\n",
    "   Total Products Ordered: <total_products_ordered>\n",
    "   Percentage of Products Ordered: <percentage_ordered>% \n",
    "   ```\n",
    "\n",
    "9. Update the inventory by subtracting 1 from the quantity of each product. Modify the `inventory` dictionary accordingly.\n",
    "\n",
    "10. Print the updated inventory, displaying the quantity of each product on separate lines.\n",
    "\n",
    "Solve the exercise by implementing the steps using the Python concepts of lists, dictionaries, sets, and basic input/output operations. "
   ]
  },
  {
   "cell_type": "code",
   "execution_count": 40,
   "metadata": {},
   "outputs": [
    {
     "name": "stdin",
     "output_type": "stream",
     "text": [
      "Please enter the t-shirt qty:  5\n",
      "Please enter the mug qty:  5\n",
      "Please enter the hat qty:  5\n",
      "Please enter the book qty:  5\n",
      "Please enter the keychain qty:  5\n"
     ]
    },
    {
     "data": {
      "text/plain": [
       "{'t-shirt': 5, 'mug': 5, 'hat': 5, 'book': 5, 'keychain': 5}"
      ]
     },
     "execution_count": 40,
     "metadata": {},
     "output_type": "execute_result"
    }
   ],
   "source": [
    "# 1. Define a list called products that contains the following items: \"t-shirt\", \"mug\", \"hat\", \"book\", \"keychain\".\n",
    "# 2. Create an empty dictionary called inventory.\n",
    "# 3. Ask the user to input the quantity of each product available in the inventory. \n",
    "# Use the product names from the products list as keys in the inventory dictionary and assign the respective quantities as values.\n",
    "\n",
    "products = [\"t-shirt\", \"mug\", \"hat\", \"book\", \"keychain\"]\n",
    "inventory = {}\n",
    "\n",
    "inventory['t-shirt'] = int(input(\"Please enter the t-shirt qty: \"))\n",
    "inventory['mug'] = int(input(\"Please enter the mug qty: \"))\n",
    "inventory['hat'] = int(input(\"Please enter the hat qty: \"))\n",
    "inventory['book'] = int(input(\"Please enter the book qty: \"))\n",
    "inventory['keychain'] = int(input(\"Please enter the keychain qty: \"))\n",
    "inventory"
   ]
  },
  {
   "cell_type": "code",
   "execution_count": 41,
   "metadata": {},
   "outputs": [
    {
     "name": "stdin",
     "output_type": "stream",
     "text": [
      "Please let us know which 3 products from this list would you like to buy: t-shirt, mug, hat, book, keychain. mug,hat,book\n"
     ]
    },
    {
     "name": "stdout",
     "output_type": "stream",
     "text": [
      "{'mug', 'hat', 'book'}\n"
     ]
    }
   ],
   "source": [
    "# 4.Create an empty set called customer_orders.\n",
    "# 5.Ask the user to input the name of three products that a customer wants to order (from those in the products list, \n",
    "# meaning three products out of \"t-shirt\", \"mug\", \"hat\", \"book\" or \"keychain\". Add each product name to the customer_orders set.\n",
    "# 6.Print the products in the customer_orders set.\n",
    "\n",
    "customer_orders = set()\n",
    "input_orders = input(\"Please let us know which 3 products from this list would you like to buy: t-shirt, mug, hat, book, keychain.\")\n",
    "customer_orders = set(input_orders.split(','))\n",
    "print(customer_orders)"
   ]
  },
  {
   "cell_type": "code",
   "execution_count": 42,
   "metadata": {},
   "outputs": [
    {
     "data": {
      "text/plain": [
       "3"
      ]
     },
     "execution_count": 42,
     "metadata": {},
     "output_type": "execute_result"
    }
   ],
   "source": [
    "# 7.Calculate the following order statistics:\n",
    "# Total Products Ordered: The total number of products in the customer_orders set.\n",
    "# Percentage of Products Ordered: The percentage of products ordered compared to the total available products.\n",
    "# Store these statistics in a tuple called order_status.\n",
    "\n",
    "total_ordered = len(customer_orders)\n",
    "total_ordered"
   ]
  },
  {
   "cell_type": "code",
   "execution_count": 43,
   "metadata": {},
   "outputs": [
    {
     "data": {
      "text/plain": [
       "25"
      ]
     },
     "execution_count": 43,
     "metadata": {},
     "output_type": "execute_result"
    }
   ],
   "source": [
    "total_inventory = sum(inventory.values())\n",
    "total_inventory"
   ]
  },
  {
   "cell_type": "code",
   "execution_count": 44,
   "metadata": {},
   "outputs": [
    {
     "data": {
      "text/plain": [
       "12.0"
      ]
     },
     "execution_count": 44,
     "metadata": {},
     "output_type": "execute_result"
    }
   ],
   "source": [
    "percentage_ordered = (total_ordered/total_inventory)*100\n",
    "percentage_ordered"
   ]
  },
  {
   "cell_type": "code",
   "execution_count": 33,
   "metadata": {},
   "outputs": [
    {
     "data": {
      "text/plain": [
       "(3, 12.0)"
      ]
     },
     "execution_count": 33,
     "metadata": {},
     "output_type": "execute_result"
    }
   ],
   "source": [
    "order_status = (total_ordered,percentage_ordered)\n",
    "order_status"
   ]
  },
  {
   "cell_type": "code",
   "execution_count": 45,
   "metadata": {},
   "outputs": [
    {
     "name": "stdout",
     "output_type": "stream",
     "text": [
      "\n",
      "Order Statistics:\n",
      "Total Products Ordered: 3\n",
      "Percentage of Products Ordered: 12.0%\n",
      "\n"
     ]
    }
   ],
   "source": [
    "# 8.Print the order statistics using the following format:\n",
    "# Order Statistics:\n",
    "# Total Products Ordered: <total_ordered>\n",
    "# Percentage of Products Ordered: <percentage_ordered>% \n",
    "\n",
    "print(f\"\"\"\n",
    "Order Statistics:\n",
    "Total Products Ordered: {total_ordered}\n",
    "Percentage of Products Ordered: {percentage_ordered}%\n",
    "\"\"\")\n"
   ]
  },
  {
   "cell_type": "code",
   "execution_count": 46,
   "metadata": {},
   "outputs": [
    {
     "name": "stdout",
     "output_type": "stream",
     "text": [
      "{'t-shirt': 5, 'mug': 4, 'hat': 4, 'book': 4, 'keychain': 5}\n"
     ]
    }
   ],
   "source": [
    "# 9.Update the inventory by subtracting 1 from the quantity of each product. Modify the inventory dictionary accordingly.\n",
    "\n",
    "for product_ordered in customer_orders:\n",
    "    if product_ordered in inventory.keys():\n",
    "        inventory[product_ordered] -=1\n",
    "print(inventory)            # 10.Print the updated inventory, displaying the quantity of each product on separate lines."
   ]
  },
  {
   "cell_type": "code",
   "execution_count": null,
   "metadata": {},
   "outputs": [],
   "source": []
  }
 ],
 "metadata": {
  "kernelspec": {
   "display_name": "Python 3 (ipykernel)",
   "language": "python",
   "name": "python3"
  },
  "language_info": {
   "codemirror_mode": {
    "name": "ipython",
    "version": 3
   },
   "file_extension": ".py",
   "mimetype": "text/x-python",
   "name": "python",
   "nbconvert_exporter": "python",
   "pygments_lexer": "ipython3",
   "version": "3.11.7"
  }
 },
 "nbformat": 4,
 "nbformat_minor": 4
}
